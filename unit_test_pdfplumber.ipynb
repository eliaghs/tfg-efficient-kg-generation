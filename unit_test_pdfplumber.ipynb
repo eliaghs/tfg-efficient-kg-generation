{
 "cells": [
  {
   "cell_type": "markdown",
   "metadata": {},
   "source": [
    "# Extracción de texto a partir de pdfs"
   ]
  },
  {
   "cell_type": "markdown",
   "metadata": {},
   "source": [
    "## pdfplumber\n",
    "https://pypi.org/project/pdfplumber/\n",
    "\n",
    "\n",
    "Works best on machine-generated, rather than scanned, PDFs."
   ]
  },
  {
   "cell_type": "code",
   "execution_count": 2,
   "metadata": {},
   "outputs": [],
   "source": [
    "# pip install pdfplumber"
   ]
  },
  {
   "cell_type": "code",
   "execution_count": 3,
   "metadata": {},
   "outputs": [
    {
     "name": "stdout",
     "output_type": "stream",
     "text": [
      "El texto ha sido guardado en 'texto_extraido.txt'.\n"
     ]
    }
   ],
   "source": [
    "import pdfplumber\n",
    "\n",
    "path = r\"C:\\Users\\eliag\\OneDrive - Universidad Politécnica de Madrid\\CUATRI7\\TFG\\PREPROCESSING\\basketball_notes.pdf\"\n",
    "\n",
    "# Abre el archivo PDF\n",
    "with pdfplumber.open(path) as pdf:\n",
    "    texto_completo = \"\"\n",
    "    \n",
    "    # Itera sobre las páginas del PDF\n",
    "    for pagina in pdf.pages:\n",
    "        texto_completo += pagina.extract_text()\n",
    "        texto_completo += \"\\n\\n\\n\" \n",
    "    \n",
    "archivo_salida = \"texto_extraido.txt\"\n",
    "\n",
    "# Guarda el texto extraído en un archivo .txt\n",
    "with open(archivo_salida, \"w\", encoding=\"utf-8\") as archivo:\n",
    "    archivo.write(texto_completo)\n",
    "\n",
    "print(f\"El texto ha sido guardado en '{archivo_salida}'.\")"
   ]
  },
  {
   "cell_type": "code",
   "execution_count": 4,
   "metadata": {},
   "outputs": [
    {
     "data": {
      "text/plain": [
       "'Basketball Notes\\nThe Rules\\nBasketball is a team sport. Two teams of five players each try to score by shooting\\na ball through a hoop elevated 10 feet above the ground. The game is played on a\\nrectangular floor called the court, and there is a hoop at each end. The court is\\ndivided into two main sections by the mid-court line (10 second line). If the\\noffensive team puts the ball into play behind the mid-court line, it has ten\\nseconds to get the ball over the mid-court line. If it doesn\\'t, then the defense gets\\nthe ball. Once the offensive team gets the ball over the mid-court line, it can no\\nlonger have possession of the ball in the area in back of the line. If it does, the\\ndefense is awarded the ball.\\nDefensive Player\\nThe ball is moved down the court toward the basket by passing\\nor dribbling. The team with the ball is called the offense.\\nThe team without the ball is called the defense.\\nThey try to steal the ball, contest shots, steal and deflect passes,\\nand garner rebounds.\\nOffensive Player\\n\\n\\nWhen a team makes a basket, they score two points and the ball goes to the\\nother team. If a basket, or field goal, is made outside of the three-point arc, then\\nthat basket is worth three points. A free throw is worth one point. Free throws\\nare awarded to a team according to some formats involving the number of fouls\\ncommitted in a half and/or the type of foul committed. Fouling a shooter always\\nresults in two or three free throws being awarded the shooter, depending upon\\nwhere he was when he shot. If he was beyond the three-point line, then he gets\\nthree shots. Other types of fouls do not result in free throws being awarded until\\na certain number (7) have accumulated during a half. Once that number is\\nreached, then the player who was fouled is awarded a \\'1-and-1\\' opportunity. If he\\nmakes his first free throw, he gets to attempt a second. If he misses the first shot,\\nthe ball is live on the rebound. When each team reaches 10 team fouls in a half,\\nthe person fouled is awarded 2 free throws. This format starts over in the second\\nhalf of the game.\\nEach game is divided into sections. All levels have two halves. In NorWossa, each\\nhalf is 20 minutes long. The halves are divided into 10 minute quarters. There is a\\ngap of several minutes (5-10) between halves. Gaps between quarters are\\nrelatively short (2 minutes). If the score is tied at the end of regulation, then\\novertime periods of various lengths are played until a winner emerges.\\n\\n\\nEach team is assigned a basket or goal to defend. This means that the other\\nbasket is their scoring basket. At halftime, the teams switch goals. The game\\nbegins with one player from either team at center court. A referee will toss the\\nball up between the two. The player that gets his hands on the ball will tip it to a\\nteammate. This is called a tip-off. In addition to stealing the ball from an opposing\\nplayer, there are other ways for a team to get the ball.\\nSubstitutions:\\na. A substitute shall report to the scorer and position himself in the 8\\' Substitution\\nBox located in front of the scorer\\'s table. He shall give his name, number and\\nwhom he is to replace. The scorer shall sound the horn as soon as the ball is dead\\nto indicate a substitution. The horn does not have to be sounded if the\\nsubstitution occurs between periods or during timeouts. No substitute may enter\\nthe game after a successful field goal by either team, unless the ball is dead due\\nto a personal foul, technical foul, timeout or violation. He may enter the game\\nafter the first of multiple free throws, whether made or missed.\\n\\n\\nb. The substitute shall remain in the Substitution Box until he is beckoned onto\\nthe court by an official. If the ball is about to become live, the beckoning signal\\nshall be withheld. Any player who enters the court prior to being beckoned by an\\nofficial shall be assessed a technical foul.\\nc. A substitute must be ready to enter the game when beckoned. No delays for\\nremoval of warm-up clothing will be permitted.\\nd. The substitute shall not replace a free throw shooter or a player involved in a\\njump ball unless dictated to do so by an injury whereby he is selected by the\\nopposing coach. At no time may he be allowed to attempt a free throw awarded\\nas a result of a technical foul.\\ne. The number of substitutions allowed per team per game is unlimited.\\nFouls and Violations\\nFOULS\\nPersonal fouls: Personal fouls include any type of illegal physical contact. Each\\nplayer is allowed 5 personal fouls. On the fifth, the player is asked to leave the\\ngame.\\n\\uf0b7 Hitting\\n\\uf0b7 Pushing\\n\\uf0b7 Slapping\\n\\uf0b7 Holding\\n\\uf0b7 Illegal pick/screen -- when an offensive\\nplayer is moving. When an offensive player\\nsticks out a limb and makes physical contact\\nwith a defender in an attempt to block the\\npath of the defender.\\n\\n\\nPersonal foul penalties: If a player is shooting and is fouled, then she gets two\\nfree throws if her shot doesn\\'t go in, but only one free throw if her shot does go\\nin.\\n\\uf0b7 Three free throws are awarded if the player is fouled while shooting for a\\nthree-point goal and they miss their shot. If a player is fouled while\\nshooting a three-point shot and makes it anyway, he is awarded one free\\nthrow. Thus, he could score four points on the play.\\n\\uf0b7 Inbounds. If fouled while not shooting, the ball is given to the team the foul\\nwas committed upon. They get the ball at the nearest side or baseline, out\\nof bounds, and have 5 seconds to pass the ball onto the court.\\n\\uf0b7 One & one. If the team committing the foul has seven or more fouls in one\\nhalf of the game, then the player who was fouled is awarded one free\\nthrow. If he makes his first shot, then he is awarded another free throw.(1\\non 1) ( this team is in the Bonus Situation)\\n\\uf0b7 Ten or more fouls. If the team committing the foul has ten or more fouls,\\nthen the fouled player receives two free throws.\\nCharging. An offensive foul that is committed when a player pushes or runs over a\\ndefensive player. The ball is given to the team that the foul was committed upon.\\nBlocking. Blocking is illegal personal contact resulting from a\\ndefender not establishing position in time to prevent an\\nopponent\\'s drive to the basket.\\n\\n\\nFlagrant foul. Violent contact with an opponent. This includes hitting, kicking, and\\npunching. This type of foul results in free throws plus the offense retaining\\npossession of the ball after the free throws. Usually results in the ejection of the\\noffending player.\\nIntentional foul. When a player makes physical contact with another player with\\nno reasonable effort to steal the ball. It is a judgment call for the officials.\\nTechnical foul. Technical foul. A player or a coach can commit this type of foul. It\\ndoes not involve player contact or the ball but is instead about the \\'manners\\' of\\nthe game. Foul language, obscenity, obscene gestures, and even arguing can be\\nconsidered a technical foul, as can technical details regarding filling in the\\nscorebook improperly or dunking during warm-ups.\\n\\n\\nVIOLATIONS\\nWalking/Traveling. Taking more than \\'a step and a half\\' without dribbling the ball\\nis traveling. Moving your pivot foot once you\\'ve stopped dribbling is traveling. :\\nMoving the feet while in possession of the ball without dribbling.\\nCarrying/palming. When a player dribbles the ball with his hand too far to the\\nside of or, sometimes, even under the ball.\\nDouble Dribble. Dribbling the ball with both hands on the ball at the same time or\\npicking up the dribble and then dribbling again is a double dribble.\\n\\n\\nHeld ball. Occasionally, two or more opposing players will gain possession of the\\nball at the same time. In order to avoid a prolonged and/or violent tussle, the\\nreferee stops the action and awards the ball to one team or the other on a\\nrotating basis. (alternating possession arrow)\\nGoaltending. If a defensive player interferes with a shot while it\\'s on the way\\ndown toward the basket, while it\\'s on the way up toward the basket after having\\ntouched the backboard, or while it\\'s in the cylinder above the rim, it\\'s goaltending\\nand the shot counts. If committed by an offensive player, it\\'s a violation and the\\nball is awarded to the opposing team for a throw-in.\\nBackcourt violation. Once the offense has brought the ball across the mid-court\\nline, they cannot go back across the line during possession. If they do, the ball is\\nawarded to the other team to pass inbounds. (over and back)\\nTime restrictions. A player passing the ball inbounds has five seconds to pass the\\nball. If he does not, then the ball is awarded to the other team. Other time\\nrestrictions include the rule that a player cannot have the ball for more than five\\nseconds when being closely guarded.\\n\\n\\nPlayer Positions\\nCenter. Centers are generally your tallest players. They generally are positioned\\nnear the basket.\\nOffensive -- The center\\'s goal is to get open for a pass and to shoot. They are also\\nresponsible for blocking defenders, known as picking or screening, to open other\\nplayers up for driving to the basket for a goal. Centers are expected to get some\\noffensive rebounds and put-backs.\\nDefensive -- On defense, the center\\'s main responsibility is to keep opponents\\nfrom shooting by blocking shots and passes in the key area. They also are\\nexpected to get a lot of rebounds because they\\'re taller.\\nForward. Your next tallest players will most likely be your forwards. While a\\nforward may be called upon to play under the hoop, they may also be required to\\noperate in the wings and corner areas.\\nOffensive -- Forwards are responsible to get free for a pass, take outside shots,\\ndrive for goals, and rebound.\\n\\n\\nDefensive -- Responsibilities include preventing drives to the goal and rebounding.\\nGuard. These are potentially your shortest players and they should be really good\\nat dribbling fast, seeing the court, and passing. It is their job to bring the ball\\ndown the court and set up offensive plays.\\nOffensive -- Dribbling, passing, and setting up offensive plays are a guard\\'s main\\nresponsibilities. They also need to be able to drive to the basket and to shoot\\nfrom the perimeter.\\nDefensive -- On defense, a guard is responsible for stealing passes, contesting\\nshots, preventing drives to the hoop, and for boxing out.\\nAlternating-Possession Rule - In high school basketball, most jump balls have\\nbeen eliminated in favor of a rule that the teams take turns gaining possession for\\na throw-in after a held ball and similar stoppages of play when possession is in\\nquestion. The possession arrow indicates which team gets the ball on the next\\nsuch occasion.\\nThe referee uses the alternating possession rule to speed up play and to create\\n“fairness” between teams.\\nExample: During the tip off – Fort Frances Muskies gain possession. The referee\\nwill tell the scorers’ table to indicate on the score clock that the Kenora Broncos\\nget the next questionable possession. At the beginning of the second quarter the\\nreferee will award the throw in to the team indicated on the clock. The referee\\nwill continue in this fashion for the entire game. Questionable possessions\\ninclude:\\n“jump ball” – two players fighting over the ball,\\nA ball becomes lodged between the rim and the backboard.\\n\\n\\nBASKETBALL SKILLS\\nDribbling/Ballhandling\\nMost coaches use dribbling and ballhandling interchangeably. Though they are\\nlinked, the 2 skills are definitely separate.\\nDribbling and controlling the ball is a skill that can be practiced alone and is\\nseparate from the other ball skills on the court. Ballhandling, however, involves\\nknowledge of the game and integrates dribbling, passing and decision-making.\\nPracticing and improving your dribbling is a simple task. There are innumerable\\ndribbling drills that are in use today that are challenging and effective. The set of\\ndrills that have come to be known as \"Maravich Drills,\" (after the late ball-\\nhandling wizard Pete Maravich) are widely known. They include drills such as\\npassing the ball around your body, dribble figure 8s, spider dribbling, drop and\\ncatch.\\nPracticing and improving your ballhandling requires imagination, as you have to\\nput yourself in game situations.\\n9 Tips To Improve Your Dribbling & Ball Handling\\nHere are 9 tips from pro coach Don Kelbick.\\n1.Dribble the ball hard. The more time the ball spends in your hand, the more\\ncontrol you have of the ball. The harder you dribble, the quicker it gets back in\\nyour hand.\\n2.Head up at all times. Look at the rim or a spot on the wall during all practice.\\n3.Use your finger tips to control the ball, not your palm.\\n4.Use your imagination. Picture when and how you would use each of the\\ndribbles.\\n6.Basketball is a game of length. Work on lengthening the dribble. Work to get\\nyour opportunities with 1 dribble. You don\\'t beat defenses with your dribble. You\\nbeat people with your feet; you SEPARATE from your defense with the dribble.\\n7.Basketball is also a game of angles. Try to move in straight lines. Whenever you\\nmake an \"East-West\" move (something that takes you toward the sideline), re-\\ncapture a \"North-South\" path (direct line to the basket) as quickly as possible.\\n\\n\\n8.Don\\'t do things in 2 dribbles that you can do in 1.\\n9.Practice outside your comfort zone. Experiment; go faster than you are used to,\\nuse your imagination. When working on new skills, don\\'t be concerned with losing\\nthe ball. Just pick it up and do it again. If you practice only things that are\\ncomfortable, then you will never improve\\nhttp://www.youtube.com/watch?feature=player_detailpage&v=ZNM8e4qReno\\nBasketball Shooting Technique & Mechanics\\n1. Remember BEEF (Balance, Eye, Elbow, Follow Through) when shooting the\\nbasketball. Another nice method to remember is putting your hand \"In the cookie\\njar.\" This will help you with your follow through which increases accuracy. Get\\ninto the habit of always using these proper shooting techniques - whether in\\npractices or a game. If proper techniques are not used, bad habits are formed that\\nare often difficult to correct. If players don\\'t have a shooting technique - they\\nneed to develop one!\\n2. Be relaxed and concentrate on the basket. Focus on the back of the rim as you\\nmake a jump shot or shoot from the free throw line. When shooting lay-ups and\\nbank shots, focus on the part of the backboard where you will bank the ball.\\n3. Know when you have a good shot - and then take it. Find the right balance\\nbetween shooting too often and not shooting enough. As you develop confidence\\nin your shot, you will also develop the ability to know when you have a good shot\\nto take.\\n4. Be in proper balance when shooting the basketball. Proper balance (front to\\nback and side to side) is critical on all shots.\\n5. Follow through on every shot you take. Hold your follow through as this is one\\nthing that will show you why you made or missed the shot.\\n6. Jump naturally. please!! Avoid forcing your jump - it should be nice and easy.\\nYou should jump straight up in the air smoothly and release the shot at the top of\\nyour jump letting the force easily slide off your fingers at the same time\\n7. Make sure you have an arc on every shot you take. The height of the arc will\\nvary from player to player. Some players shoot with a high arc, while others have\\nmore of a flat shot. As long as you are using proper shooting techniques and the\\nshots are going in, then the arc is fine.\\nhttp://www.youtube.com/watch?v=9Yf1RMtXE5Y&feature=player_detailpage\\n\\n\\nTYPES OF PASSES\\nThere are essentially two types of passes:\\n•Air Pass - The pass travels between players without hitting the floor.\\n•Bounce Passes - The pass is thrown to the floor so that it bounces to the\\nintended receiver\\nEach type of pass comes with its own variations.\\nBasic Variations:\\n- Chest Pass\\n- Bounce Pass\\n- Overhead Pass\\n- Wrap Around Pass\\nAdvanced Variations:\\n- Baseball Pass\\n- Dribble Pass\\n- Behind-the-Back Pass\\n- Pick and Roll Pass\\nTEACHING POINTS\\nWhen teaching passing, points of emphasis should be:\\n•A good pass is a pass a teammate can catch\\n•When passing, step toward your receiver.\\n•When catching, step toward the pass\\n•Like shooting, the ball should have a backspin to it. This is accomplished by\\nfollowing through on every pass.\\n\\n\\nBasic Passes\\nCHEST PASS\\nThe chest pass is named so because the pass originates from the chest. It is\\nthrown by gripping the ball on the sides with the thumbs directly behind the ball.\\nWhen the pass is thrown, the fingers are rotated behind the ball and the thumbs\\nare turned down. The resulting follow through has the back of the hands facing\\none another with the thumbs straight down. The ball should have a nice backspin.\\nWhen throwing a chest pass, the players should strive to throw it to the receiver\\'s\\nchest level. Passes that go low to high or high to low are difficult to catch.\\nBOUNCE PASS\\nThe bounce pass is thrown with the same motion however it is aimed at the floor.\\nIt should be thrown far enough out that the ball bounces waist high to the\\nreceiver. Some say try to throw it 3/4 of the way to the receiver, and that may be\\na good reference point to start, but each player has to experiment how far to\\nthrow it so it bounces to the receiver properly. Putting a proper and consistent\\nbackspin on the pass will make the distance easier to judge.\\nOVERHEAD PASS\\nThe overhead pass is often used as an outlet pass. Bring the ball directly above\\nyour forehead with both hands on the side of the ball and follow through. Aim for\\nthe teammate\\'s chin. Some coaches advise not bring the ball behind your head,\\nbecause it can get stolen and it takes a split-second longer to throw the pass.\\n\\n\\nWRAP AROUND PASS\\nStep around the defense with your non-pivot foot. Pass the ball with one hand\\n(outside hand). It can be used as an air or a bounce pass. You will often see the\\nwrap-around, air pass on the perimeter and the wrap-around, bounce pass to\\nmake an entry into the post.\\nAdvanced Passes\\nBASEBALL PASS\\nA baseball pass is a one-handed pass that uses the same motion as a baseball\\nthrow. This is often used to make long passes .Be careful with young kids. You\\ndon\\'t want them throw their arms out.\\nDRIBBLE PASS\\nThe dribble pass is used to quickly pass the ball with one hand off of the dribble.\\nThis can be an air or bounce pass. You\\'ll see Steve Nash do this all of the time.\\n\\n\\nT\\nThis is Steve Nash\\nBEHIND-THE-BACK PASS\\nA behind-the-back pass is when you wrap the ball around your back to throw the\\nball. It is used to avoid the defender when making a pass across the front of you\\nwould be risky. It can also be used to throw the ball to a player trailing on the fast\\nbreak.\\nPICK AND ROLL PASS\\nThis is a pass that is used when the defenders double-team or switch on the pick\\nand roll. If dribbling to the right, your left side is facing the target and you bring\\nthe ball up from your right side to throw the ball overhead to the screener who\\nhas either rolled to the basket or popped to the perimeter. The pass is used to\\nshield the ball from the defender, and many times is thrown in \"hook shot\"\\nfashion. Advanced players can do this while slightly fading away from the\\ndefender.\\nLAY-UPS\\nThe lay-up is the easiest shot and the first shot you should learn. It\\'s not as easy\\nas it looks at first, as a lot of kids have difficulty getting the correct footwork, and\\nshooting off the correct foot. Then you must also learn to use either hand, and\\neventually do the reverse lay-up.\\n\\n\\nFootwork\\nWhen dribbling toward the basket, move slightly to one side of the hoop to create\\nthe proper angle. If you\\'re on the right side, dribble right-handed, and plant your\\nleft (inside) foot and jump off that foot, and finally shoot with your right hand. As\\nyou raise your right hand, your right knee should also elevate. Pretend there is a\\nstring attached to your right hand and your right knee. Reverse this form if\\nshooting from the left side.\\nAs you approach the hoop, take a half step with your outside foot, then take a full\\nstride with your inside foot pushing off the court. When jumping your outside\\nknee should be bent. Go directly toward the basket, with your head up and eyes\\nfocused on the backboard. Go up strong and straight to the hoop. Don\\'t shy away\\nif there is a defender, just go strong to the hoop. You may get fouled and get a\\nthree point chance.\\nAim\\nAlways use the backboard (\"use the glass\") when shooting lay-ups from either\\nside. Aim for the top corner of the box on the backboard. Focus in on this area;\\ndon\\'t watch the ball. Keep your head up.\\nThe Push Release\\nYounger players who are not yet strong enough for the underhand release should\\nuse the push release. Release the ball with the back of your hands facing you.\\nExtend your shooting arm, as you push the ball to the hoop off your fingertips.\\nYou should go up with two hands, then release the ball with your outside hand. A\\nvery young player may need to shoot the ball with two hands.\\nUnderhand Release\\nAs you get stronger, you should develop the underhand shot. This release results\\nin a softer shot, and more control when you are moving at high speed. Release\\nthe ball with your palm up and arm extended. Let the ball roll off your palm and\\nthen your fingertips, and lay the ball softly off the backboard. Use two hands\\ngoing up, but then release the ball with your outside hand at the top of your\\njump. Be strong and concentrate... \"finish\"!\\nhttp://www.youtube.com/watch?feature=player_detailpage&v=rV-4Jk2oOYE\\n\\n\\n'"
      ]
     },
     "execution_count": 4,
     "metadata": {},
     "output_type": "execute_result"
    }
   ],
   "source": [
    "texto_completo"
   ]
  },
  {
   "cell_type": "markdown",
   "metadata": {},
   "source": [
    "División en párrafos ???"
   ]
  },
  {
   "cell_type": "code",
   "execution_count": 7,
   "metadata": {},
   "outputs": [
    {
     "name": "stdout",
     "output_type": "stream",
     "text": [
      "Basketball Notes\n",
      "The Rules\n",
      "Basketball is a team sport. Two teams of five players each try to score by shooting\n",
      "a ball through a hoop elevated 10 feet above the ground. The game is played on a\n",
      "rectangular floor called the court, and there is a hoop at each end. The court is\n",
      "divided into two main sections by the mid-court line (10 second line). If the\n",
      "offensive team puts the ball into play behind the mid-court line, it has ten\n",
      "seconds to get the ball over the mid-court line. If it doesn't, then the defense gets\n",
      "the ball. Once the offensive team gets the ball over the mid-court line, it can no\n",
      "longer have possession of the ball in the area in back of the line. If it does, the\n",
      "defense is awarded the ball.\n",
      "Defensive Player\n",
      "The ball is moved down the court toward the basket by passing\n",
      "or dribbling. The team with the ball is called the offense.\n",
      "The team without the ball is called the defense.\n",
      "They try to steal the ball, contest shots, steal and deflect passes,\n",
      "and garner rebounds.\n",
      "Offensive Player\n"
     ]
    }
   ],
   "source": [
    "# Pruebo a extraer solo la primera página\n",
    "with pdfplumber.open(path) as pdf:\n",
    "    primera_pagina = pdf.pages[0]\n",
    "    texto_primera_pagina = primera_pagina.extract_text()\n",
    "\n",
    "print(texto_primera_pagina)\n",
    "\n",
    "# Guardar como txt\n",
    "archivo_salida = \"texto_primera_pagina.txt\"\n",
    "\n",
    "with open(archivo_salida, \"w\", encoding=\"utf-8\") as archivo:\n",
    "    archivo.write(texto_primera_pagina)"
   ]
  },
  {
   "cell_type": "code",
   "execution_count": null,
   "metadata": {},
   "outputs": [],
   "source": []
  }
 ],
 "metadata": {
  "kernelspec": {
   "display_name": "venv",
   "language": "python",
   "name": "python3"
  },
  "language_info": {
   "codemirror_mode": {
    "name": "ipython",
    "version": 3
   },
   "file_extension": ".py",
   "mimetype": "text/x-python",
   "name": "python",
   "nbconvert_exporter": "python",
   "pygments_lexer": "ipython3",
   "version": "3.10.11"
  }
 },
 "nbformat": 4,
 "nbformat_minor": 2
}
