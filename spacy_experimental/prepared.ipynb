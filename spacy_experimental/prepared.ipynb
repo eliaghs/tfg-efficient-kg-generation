{
 "cells": [
  {
   "cell_type": "code",
   "execution_count": 1,
   "id": "22042fec",
   "metadata": {},
   "outputs": [
    {
     "name": "stdout",
     "output_type": "stream",
     "text": [
      "Hello World\n"
     ]
    }
   ],
   "source": [
    "print(\"Hello World\")"
   ]
  },
  {
   "cell_type": "code",
   "execution_count": 2,
   "id": "f00f8648-2087-4ceb-9538-1032aebd573e",
   "metadata": {},
   "outputs": [
    {
     "ename": "ValueError",
     "evalue": "numpy.dtype size changed, may indicate binary incompatibility. Expected 96 from C header, got 88 from PyObject",
     "output_type": "error",
     "traceback": [
      "\u001b[1;31m---------------------------------------------------------------------------\u001b[0m",
      "\u001b[1;31mValueError\u001b[0m                                Traceback (most recent call last)",
      "Cell \u001b[1;32mIn[2], line 1\u001b[0m\n\u001b[1;32m----> 1\u001b[0m \u001b[38;5;28;01mimport\u001b[39;00m\u001b[38;5;250m \u001b[39m\u001b[38;5;21;01mspacy\u001b[39;00m\n\u001b[0;32m      2\u001b[0m \u001b[38;5;28;01mimport\u001b[39;00m\u001b[38;5;250m \u001b[39m\u001b[38;5;21;01mspacy_experimental\u001b[39;00m\n",
      "File \u001b[1;32mc:\\Users\\eliag\\OneDrive - Universidad Politécnica de Madrid\\CUATRI7\\TFG\\PREPROCESSING\\spacy_experimental\\spacy_experimental_env\\lib\\site-packages\\spacy\\__init__.py:6\u001b[0m\n\u001b[0;32m      3\u001b[0m \u001b[38;5;28;01mimport\u001b[39;00m\u001b[38;5;250m \u001b[39m\u001b[38;5;21;01msys\u001b[39;00m\n\u001b[0;32m      5\u001b[0m \u001b[38;5;66;03m# set library-specific custom warning handling before doing anything else\u001b[39;00m\n\u001b[1;32m----> 6\u001b[0m \u001b[38;5;28;01mfrom\u001b[39;00m\u001b[38;5;250m \u001b[39m\u001b[38;5;21;01m.\u001b[39;00m\u001b[38;5;21;01merrors\u001b[39;00m\u001b[38;5;250m \u001b[39m\u001b[38;5;28;01mimport\u001b[39;00m setup_default_warnings\n\u001b[0;32m      8\u001b[0m setup_default_warnings()  \u001b[38;5;66;03m# noqa: E402\u001b[39;00m\n\u001b[0;32m     10\u001b[0m \u001b[38;5;66;03m# These are imported as part of the API\u001b[39;00m\n",
      "File \u001b[1;32mc:\\Users\\eliag\\OneDrive - Universidad Politécnica de Madrid\\CUATRI7\\TFG\\PREPROCESSING\\spacy_experimental\\spacy_experimental_env\\lib\\site-packages\\spacy\\errors.py:2\u001b[0m\n\u001b[0;32m      1\u001b[0m \u001b[38;5;28;01mimport\u001b[39;00m\u001b[38;5;250m \u001b[39m\u001b[38;5;21;01mwarnings\u001b[39;00m\n\u001b[1;32m----> 2\u001b[0m \u001b[38;5;28;01mfrom\u001b[39;00m\u001b[38;5;250m \u001b[39m\u001b[38;5;21;01m.\u001b[39;00m\u001b[38;5;21;01mcompat\u001b[39;00m\u001b[38;5;250m \u001b[39m\u001b[38;5;28;01mimport\u001b[39;00m Literal\n\u001b[0;32m      5\u001b[0m \u001b[38;5;28;01mclass\u001b[39;00m\u001b[38;5;250m \u001b[39m\u001b[38;5;21;01mErrorsWithCodes\u001b[39;00m(\u001b[38;5;28mtype\u001b[39m):\n\u001b[0;32m      6\u001b[0m     \u001b[38;5;28;01mdef\u001b[39;00m\u001b[38;5;250m \u001b[39m\u001b[38;5;21m__getattribute__\u001b[39m(\u001b[38;5;28mself\u001b[39m, code):\n",
      "File \u001b[1;32mc:\\Users\\eliag\\OneDrive - Universidad Politécnica de Madrid\\CUATRI7\\TFG\\PREPROCESSING\\spacy_experimental\\spacy_experimental_env\\lib\\site-packages\\spacy\\compat.py:38\u001b[0m\n\u001b[0;32m     35\u001b[0m \u001b[38;5;28;01mexcept\u001b[39;00m \u001b[38;5;167;01mImportError\u001b[39;00m:\n\u001b[0;32m     36\u001b[0m     \u001b[38;5;28;01mfrom\u001b[39;00m\u001b[38;5;250m \u001b[39m\u001b[38;5;21;01mcatalogue\u001b[39;00m\u001b[38;5;250m \u001b[39m\u001b[38;5;28;01mimport\u001b[39;00m _importlib_metadata \u001b[38;5;28;01mas\u001b[39;00m importlib_metadata  \u001b[38;5;66;03m# type: ignore[no-redef]    # noqa: F401\u001b[39;00m\n\u001b[1;32m---> 38\u001b[0m \u001b[38;5;28;01mfrom\u001b[39;00m\u001b[38;5;250m \u001b[39m\u001b[38;5;21;01mthinc\u001b[39;00m\u001b[38;5;21;01m.\u001b[39;00m\u001b[38;5;21;01mapi\u001b[39;00m\u001b[38;5;250m \u001b[39m\u001b[38;5;28;01mimport\u001b[39;00m Optimizer  \u001b[38;5;66;03m# noqa: F401\u001b[39;00m\n\u001b[0;32m     40\u001b[0m pickle \u001b[38;5;241m=\u001b[39m pickle\n\u001b[0;32m     41\u001b[0m copy_reg \u001b[38;5;241m=\u001b[39m copy_reg\n",
      "File \u001b[1;32mc:\\Users\\eliag\\OneDrive - Universidad Politécnica de Madrid\\CUATRI7\\TFG\\PREPROCESSING\\spacy_experimental\\spacy_experimental_env\\lib\\site-packages\\thinc\\api.py:1\u001b[0m\n\u001b[1;32m----> 1\u001b[0m \u001b[38;5;28;01mfrom\u001b[39;00m\u001b[38;5;250m \u001b[39m\u001b[38;5;21;01m.\u001b[39;00m\u001b[38;5;21;01mbackends\u001b[39;00m\u001b[38;5;250m \u001b[39m\u001b[38;5;28;01mimport\u001b[39;00m (\n\u001b[0;32m      2\u001b[0m     CupyOps,\n\u001b[0;32m      3\u001b[0m     MPSOps,\n\u001b[0;32m      4\u001b[0m     NumpyOps,\n\u001b[0;32m      5\u001b[0m     Ops,\n\u001b[0;32m      6\u001b[0m     get_current_ops,\n\u001b[0;32m      7\u001b[0m     get_ops,\n\u001b[0;32m      8\u001b[0m     set_current_ops,\n\u001b[0;32m      9\u001b[0m     set_gpu_allocator,\n\u001b[0;32m     10\u001b[0m     use_ops,\n\u001b[0;32m     11\u001b[0m     use_pytorch_for_gpu_memory,\n\u001b[0;32m     12\u001b[0m     use_tensorflow_for_gpu_memory,\n\u001b[0;32m     13\u001b[0m )\n\u001b[0;32m     14\u001b[0m \u001b[38;5;28;01mfrom\u001b[39;00m\u001b[38;5;250m \u001b[39m\u001b[38;5;21;01m.\u001b[39;00m\u001b[38;5;21;01mcompat\u001b[39;00m\u001b[38;5;250m \u001b[39m\u001b[38;5;28;01mimport\u001b[39;00m has_cupy\n\u001b[0;32m     15\u001b[0m \u001b[38;5;28;01mfrom\u001b[39;00m\u001b[38;5;250m \u001b[39m\u001b[38;5;21;01m.\u001b[39;00m\u001b[38;5;21;01mconfig\u001b[39;00m\u001b[38;5;250m \u001b[39m\u001b[38;5;28;01mimport\u001b[39;00m Config, ConfigValidationError, registry\n",
      "File \u001b[1;32mc:\\Users\\eliag\\OneDrive - Universidad Politécnica de Madrid\\CUATRI7\\TFG\\PREPROCESSING\\spacy_experimental\\spacy_experimental_env\\lib\\site-packages\\thinc\\backends\\__init__.py:17\u001b[0m\n\u001b[0;32m     15\u001b[0m \u001b[38;5;28;01mfrom\u001b[39;00m\u001b[38;5;250m \u001b[39m\u001b[38;5;21;01m.\u001b[39;00m\u001b[38;5;21;01m_cupy_allocators\u001b[39;00m\u001b[38;5;250m \u001b[39m\u001b[38;5;28;01mimport\u001b[39;00m cupy_pytorch_allocator, cupy_tensorflow_allocator\n\u001b[0;32m     16\u001b[0m \u001b[38;5;28;01mfrom\u001b[39;00m\u001b[38;5;250m \u001b[39m\u001b[38;5;21;01m.\u001b[39;00m\u001b[38;5;21;01m_param_server\u001b[39;00m\u001b[38;5;250m \u001b[39m\u001b[38;5;28;01mimport\u001b[39;00m ParamServer\n\u001b[1;32m---> 17\u001b[0m \u001b[38;5;28;01mfrom\u001b[39;00m\u001b[38;5;250m \u001b[39m\u001b[38;5;21;01m.\u001b[39;00m\u001b[38;5;21;01mcupy_ops\u001b[39;00m\u001b[38;5;250m \u001b[39m\u001b[38;5;28;01mimport\u001b[39;00m CupyOps\n\u001b[0;32m     18\u001b[0m \u001b[38;5;28;01mfrom\u001b[39;00m\u001b[38;5;250m \u001b[39m\u001b[38;5;21;01m.\u001b[39;00m\u001b[38;5;21;01mmps_ops\u001b[39;00m\u001b[38;5;250m \u001b[39m\u001b[38;5;28;01mimport\u001b[39;00m MPSOps\n\u001b[0;32m     19\u001b[0m \u001b[38;5;28;01mfrom\u001b[39;00m\u001b[38;5;250m \u001b[39m\u001b[38;5;21;01m.\u001b[39;00m\u001b[38;5;21;01mnumpy_ops\u001b[39;00m\u001b[38;5;250m \u001b[39m\u001b[38;5;28;01mimport\u001b[39;00m NumpyOps\n",
      "File \u001b[1;32mc:\\Users\\eliag\\OneDrive - Universidad Politécnica de Madrid\\CUATRI7\\TFG\\PREPROCESSING\\spacy_experimental\\spacy_experimental_env\\lib\\site-packages\\thinc\\backends\\cupy_ops.py:16\u001b[0m\n\u001b[0;32m      6\u001b[0m \u001b[38;5;28;01mfrom\u001b[39;00m\u001b[38;5;250m \u001b[39m\u001b[38;5;21;01m.\u001b[39;00m\u001b[38;5;21;01m.\u001b[39;00m\u001b[38;5;21;01mutil\u001b[39;00m\u001b[38;5;250m \u001b[39m\u001b[38;5;28;01mimport\u001b[39;00m (\n\u001b[0;32m      7\u001b[0m     is_cupy_array,\n\u001b[0;32m      8\u001b[0m     is_mxnet_gpu_array,\n\u001b[1;32m   (...)\u001b[0m\n\u001b[0;32m     13\u001b[0m     torch2xp,\n\u001b[0;32m     14\u001b[0m )\n\u001b[0;32m     15\u001b[0m \u001b[38;5;28;01mfrom\u001b[39;00m\u001b[38;5;250m \u001b[39m\u001b[38;5;21;01m.\u001b[39;00m\u001b[38;5;250m \u001b[39m\u001b[38;5;28;01mimport\u001b[39;00m _custom_kernels\n\u001b[1;32m---> 16\u001b[0m \u001b[38;5;28;01mfrom\u001b[39;00m\u001b[38;5;250m \u001b[39m\u001b[38;5;21;01m.\u001b[39;00m\u001b[38;5;21;01mnumpy_ops\u001b[39;00m\u001b[38;5;250m \u001b[39m\u001b[38;5;28;01mimport\u001b[39;00m NumpyOps\n\u001b[0;32m     17\u001b[0m \u001b[38;5;28;01mfrom\u001b[39;00m\u001b[38;5;250m \u001b[39m\u001b[38;5;21;01m.\u001b[39;00m\u001b[38;5;21;01mops\u001b[39;00m\u001b[38;5;250m \u001b[39m\u001b[38;5;28;01mimport\u001b[39;00m Ops\n\u001b[0;32m     20\u001b[0m \u001b[38;5;129m@registry\u001b[39m\u001b[38;5;241m.\u001b[39mops(\u001b[38;5;124m\"\u001b[39m\u001b[38;5;124mCupyOps\u001b[39m\u001b[38;5;124m\"\u001b[39m)\n\u001b[0;32m     21\u001b[0m \u001b[38;5;28;01mclass\u001b[39;00m\u001b[38;5;250m \u001b[39m\u001b[38;5;21;01mCupyOps\u001b[39;00m(Ops):\n",
      "File \u001b[1;32mc:\\Users\\eliag\\OneDrive - Universidad Politécnica de Madrid\\CUATRI7\\TFG\\PREPROCESSING\\spacy_experimental\\spacy_experimental_env\\lib\\site-packages\\thinc\\backends\\numpy_ops.pyx:1\u001b[0m, in \u001b[0;36minit thinc.backends.numpy_ops\u001b[1;34m()\u001b[0m\n",
      "\u001b[1;31mValueError\u001b[0m: numpy.dtype size changed, may indicate binary incompatibility. Expected 96 from C header, got 88 from PyObject"
     ]
    }
   ],
   "source": [
    "import spacy\n",
    "import spacy_experimental"
   ]
  },
  {
   "cell_type": "markdown",
   "id": "46d3363d-409c-43a8-a5dc-ae54f739183a",
   "metadata": {},
   "source": [
    "# First Example without Heads"
   ]
  },
  {
   "cell_type": "code",
   "execution_count": 8,
   "id": "bd192c55-6feb-4122-ba96-605c1cfd138a",
   "metadata": {},
   "outputs": [
    {
     "name": "stdout",
     "output_type": "stream",
     "text": [
      "Requirement already satisfied: spacy-experimental in c:\\users\\wma22\\anaconda3\\envs\\coref\\lib\\site-packages (0.6.1)\n",
      "Requirement already satisfied: spacy<3.5.0,>=3.3.0 in c:\\users\\wma22\\anaconda3\\envs\\coref\\lib\\site-packages (from spacy-experimental) (3.4.4)\n",
      "Requirement already satisfied: setuptools in c:\\users\\wma22\\anaconda3\\envs\\coref\\lib\\site-packages (from spacy<3.5.0,>=3.3.0->spacy-experimental) (66.1.1)\n",
      "Requirement already satisfied: srsly<3.0.0,>=2.4.3 in c:\\users\\wma22\\anaconda3\\envs\\coref\\lib\\site-packages (from spacy<3.5.0,>=3.3.0->spacy-experimental) (2.4.5)\n",
      "Requirement already satisfied: requests<3.0.0,>=2.13.0 in c:\\users\\wma22\\anaconda3\\envs\\coref\\lib\\site-packages (from spacy<3.5.0,>=3.3.0->spacy-experimental) (2.28.2)\n",
      "Requirement already satisfied: numpy>=1.15.0 in c:\\users\\wma22\\anaconda3\\envs\\coref\\lib\\site-packages (from spacy<3.5.0,>=3.3.0->spacy-experimental) (1.24.1)\n",
      "Requirement already satisfied: packaging>=20.0 in c:\\users\\wma22\\anaconda3\\envs\\coref\\lib\\site-packages (from spacy<3.5.0,>=3.3.0->spacy-experimental) (23.0)\n",
      "Requirement already satisfied: cymem<2.1.0,>=2.0.2 in c:\\users\\wma22\\anaconda3\\envs\\coref\\lib\\site-packages (from spacy<3.5.0,>=3.3.0->spacy-experimental) (2.0.7)\n",
      "Requirement already satisfied: langcodes<4.0.0,>=3.2.0 in c:\\users\\wma22\\anaconda3\\envs\\coref\\lib\\site-packages (from spacy<3.5.0,>=3.3.0->spacy-experimental) (3.3.0)\n",
      "Requirement already satisfied: preshed<3.1.0,>=3.0.2 in c:\\users\\wma22\\anaconda3\\envs\\coref\\lib\\site-packages (from spacy<3.5.0,>=3.3.0->spacy-experimental) (3.0.8)\n",
      "Requirement already satisfied: spacy-legacy<3.1.0,>=3.0.10 in c:\\users\\wma22\\anaconda3\\envs\\coref\\lib\\site-packages (from spacy<3.5.0,>=3.3.0->spacy-experimental) (3.0.11)\n",
      "Requirement already satisfied: wasabi<1.1.0,>=0.9.1 in c:\\users\\wma22\\anaconda3\\envs\\coref\\lib\\site-packages (from spacy<3.5.0,>=3.3.0->spacy-experimental) (0.10.1)\n",
      "Requirement already satisfied: pydantic!=1.8,!=1.8.1,<1.11.0,>=1.7.4 in c:\\users\\wma22\\anaconda3\\envs\\coref\\lib\\site-packages (from spacy<3.5.0,>=3.3.0->spacy-experimental) (1.10.4)\n",
      "Requirement already satisfied: catalogue<2.1.0,>=2.0.6 in c:\\users\\wma22\\anaconda3\\envs\\coref\\lib\\site-packages (from spacy<3.5.0,>=3.3.0->spacy-experimental) (2.0.8)\n",
      "Requirement already satisfied: murmurhash<1.1.0,>=0.28.0 in c:\\users\\wma22\\anaconda3\\envs\\coref\\lib\\site-packages (from spacy<3.5.0,>=3.3.0->spacy-experimental) (1.0.9)\n",
      "Requirement already satisfied: tqdm<5.0.0,>=4.38.0 in c:\\users\\wma22\\anaconda3\\envs\\coref\\lib\\site-packages (from spacy<3.5.0,>=3.3.0->spacy-experimental) (4.64.1)\n",
      "Requirement already satisfied: pathy>=0.3.5 in c:\\users\\wma22\\anaconda3\\envs\\coref\\lib\\site-packages (from spacy<3.5.0,>=3.3.0->spacy-experimental) (0.10.1)\n",
      "Requirement already satisfied: thinc<8.2.0,>=8.1.0 in c:\\users\\wma22\\anaconda3\\envs\\coref\\lib\\site-packages (from spacy<3.5.0,>=3.3.0->spacy-experimental) (8.1.7)\n",
      "Requirement already satisfied: smart-open<7.0.0,>=5.2.1 in c:\\users\\wma22\\anaconda3\\envs\\coref\\lib\\site-packages (from spacy<3.5.0,>=3.3.0->spacy-experimental) (6.3.0)\n",
      "Requirement already satisfied: jinja2 in c:\\users\\wma22\\anaconda3\\envs\\coref\\lib\\site-packages (from spacy<3.5.0,>=3.3.0->spacy-experimental) (3.1.2)\n",
      "Requirement already satisfied: typer<0.8.0,>=0.3.0 in c:\\users\\wma22\\anaconda3\\envs\\coref\\lib\\site-packages (from spacy<3.5.0,>=3.3.0->spacy-experimental) (0.7.0)\n",
      "Requirement already satisfied: spacy-loggers<2.0.0,>=1.0.0 in c:\\users\\wma22\\anaconda3\\envs\\coref\\lib\\site-packages (from spacy<3.5.0,>=3.3.0->spacy-experimental) (1.0.4)\n",
      "Requirement already satisfied: typing-extensions>=4.2.0 in c:\\users\\wma22\\anaconda3\\envs\\coref\\lib\\site-packages (from pydantic!=1.8,!=1.8.1,<1.11.0,>=1.7.4->spacy<3.5.0,>=3.3.0->spacy-experimental) (4.4.0)\n",
      "Requirement already satisfied: charset-normalizer<4,>=2 in c:\\users\\wma22\\anaconda3\\envs\\coref\\lib\\site-packages (from requests<3.0.0,>=2.13.0->spacy<3.5.0,>=3.3.0->spacy-experimental) (3.0.1)\n",
      "Requirement already satisfied: idna<4,>=2.5 in c:\\users\\wma22\\anaconda3\\envs\\coref\\lib\\site-packages (from requests<3.0.0,>=2.13.0->spacy<3.5.0,>=3.3.0->spacy-experimental) (3.4)\n",
      "Requirement already satisfied: urllib3<1.27,>=1.21.1 in c:\\users\\wma22\\anaconda3\\envs\\coref\\lib\\site-packages (from requests<3.0.0,>=2.13.0->spacy<3.5.0,>=3.3.0->spacy-experimental) (1.26.14)\n",
      "Requirement already satisfied: certifi>=2017.4.17 in c:\\users\\wma22\\anaconda3\\envs\\coref\\lib\\site-packages (from requests<3.0.0,>=2.13.0->spacy<3.5.0,>=3.3.0->spacy-experimental) (2022.12.7)\n",
      "Requirement already satisfied: blis<0.8.0,>=0.7.8 in c:\\users\\wma22\\anaconda3\\envs\\coref\\lib\\site-packages (from thinc<8.2.0,>=8.1.0->spacy<3.5.0,>=3.3.0->spacy-experimental) (0.7.9)\n",
      "Requirement already satisfied: confection<1.0.0,>=0.0.1 in c:\\users\\wma22\\anaconda3\\envs\\coref\\lib\\site-packages (from thinc<8.2.0,>=8.1.0->spacy<3.5.0,>=3.3.0->spacy-experimental) (0.0.4)\n",
      "Requirement already satisfied: colorama in c:\\users\\wma22\\anaconda3\\envs\\coref\\lib\\site-packages (from tqdm<5.0.0,>=4.38.0->spacy<3.5.0,>=3.3.0->spacy-experimental) (0.4.6)\n",
      "Requirement already satisfied: click<9.0.0,>=7.1.1 in c:\\users\\wma22\\anaconda3\\envs\\coref\\lib\\site-packages (from typer<0.8.0,>=0.3.0->spacy<3.5.0,>=3.3.0->spacy-experimental) (8.1.3)\n",
      "Requirement already satisfied: MarkupSafe>=2.0 in c:\\users\\wma22\\anaconda3\\envs\\coref\\lib\\site-packages (from jinja2->spacy<3.5.0,>=3.3.0->spacy-experimental) (2.1.2)\n"
     ]
    },
    {
     "name": "stderr",
     "output_type": "stream",
     "text": [
      "WARNING: Ignoring invalid distribution -rotobuf (c:\\users\\wma22\\appdata\\roaming\\python\\python39\\site-packages)\n",
      "WARNING: Ignoring invalid distribution -illow (c:\\users\\wma22\\appdata\\roaming\\python\\python39\\site-packages)\n",
      "WARNING: Ignoring invalid distribution -rotobuf (c:\\users\\wma22\\appdata\\roaming\\python\\python39\\site-packages)\n",
      "WARNING: Ignoring invalid distribution -illow (c:\\users\\wma22\\appdata\\roaming\\python\\python39\\site-packages)\n",
      "WARNING: Ignoring invalid distribution -rotobuf (c:\\users\\wma22\\appdata\\roaming\\python\\python39\\site-packages)\n",
      "WARNING: Ignoring invalid distribution -illow (c:\\users\\wma22\\appdata\\roaming\\python\\python39\\site-packages)\n",
      "WARNING: Ignoring invalid distribution -rotobuf (c:\\users\\wma22\\appdata\\roaming\\python\\python39\\site-packages)\n",
      "WARNING: Ignoring invalid distribution -illow (c:\\users\\wma22\\appdata\\roaming\\python\\python39\\site-packages)\n",
      "WARNING: Ignoring invalid distribution -rotobuf (c:\\users\\wma22\\appdata\\roaming\\python\\python39\\site-packages)\n",
      "WARNING: Ignoring invalid distribution -illow (c:\\users\\wma22\\appdata\\roaming\\python\\python39\\site-packages)\n",
      "WARNING: Ignoring invalid distribution -rotobuf (c:\\users\\wma22\\appdata\\roaming\\python\\python39\\site-packages)\n",
      "WARNING: Ignoring invalid distribution -illow (c:\\users\\wma22\\appdata\\roaming\\python\\python39\\site-packages)\n"
     ]
    }
   ],
   "source": [
    "!pip install spacy-experimental"
   ]
  },
  {
   "cell_type": "code",
   "execution_count": 9,
   "id": "4b02bb44-ff78-4714-b081-84a3f4df92a5",
   "metadata": {},
   "outputs": [
    {
     "name": "stdout",
     "output_type": "stream",
     "text": [
      "Name: spacy\n",
      "Version: 3.4.4\n",
      "Summary: Industrial-strength Natural Language Processing (NLP) in Python\n",
      "Home-page: https://spacy.io\n",
      "Author: Explosion\n",
      "Author-email: contact@explosion.ai\n",
      "License: MIT\n",
      "Location: c:\\users\\wma22\\anaconda3\\envs\\coref\\lib\\site-packages\n",
      "Requires: catalogue, cymem, jinja2, langcodes, murmurhash, numpy, packaging, pathy, preshed, pydantic, requests, setuptools, smart-open, spacy-legacy, spacy-loggers, srsly, thinc, tqdm, typer, wasabi\n",
      "Required-by: en-core-web-sm, en-coreference-web-trf, spacy-experimental, spacy-transformers\n"
     ]
    },
    {
     "name": "stderr",
     "output_type": "stream",
     "text": [
      "WARNING: Ignoring invalid distribution -rotobuf (c:\\users\\wma22\\appdata\\roaming\\python\\python39\\site-packages)\n",
      "WARNING: Ignoring invalid distribution -illow (c:\\users\\wma22\\appdata\\roaming\\python\\python39\\site-packages)\n"
     ]
    }
   ],
   "source": [
    "!pip show spacy"
   ]
  },
  {
   "cell_type": "code",
   "execution_count": 10,
   "id": "2c8c38ef-5d2b-4f65-bff0-b7163d52220f",
   "metadata": {},
   "outputs": [
    {
     "name": "stdout",
     "output_type": "stream",
     "text": [
      "Collecting en-coreference-web-trf==3.4.0a0\n",
      "  Downloading https://github.com/explosion/spacy-experimental/releases/download/v0.6.0/en_coreference_web_trf-3.4.0a0-py3-none-any.whl (490.3 MB)\n",
      "     -------------------------------------- 490.3/490.3 MB 3.7 MB/s eta 0:00:00\n",
      "Requirement already satisfied: spacy<3.5.0,>=3.3.0 in c:\\users\\wma22\\anaconda3\\envs\\coref\\lib\\site-packages (from en-coreference-web-trf==3.4.0a0) (3.4.4)\n",
      "Requirement already satisfied: spacy-experimental<0.7.0,>=0.6.0 in c:\\users\\wma22\\anaconda3\\envs\\coref\\lib\\site-packages (from en-coreference-web-trf==3.4.0a0) (0.6.1)\n",
      "Requirement already satisfied: spacy-transformers<1.2.0,>=1.1.2 in c:\\users\\wma22\\anaconda3\\envs\\coref\\lib\\site-packages (from en-coreference-web-trf==3.4.0a0) (1.1.9)\n",
      "Requirement already satisfied: requests<3.0.0,>=2.13.0 in c:\\users\\wma22\\anaconda3\\envs\\coref\\lib\\site-packages (from spacy<3.5.0,>=3.3.0->en-coreference-web-trf==3.4.0a0) (2.28.2)\n",
      "Requirement already satisfied: spacy-legacy<3.1.0,>=3.0.10 in c:\\users\\wma22\\anaconda3\\envs\\coref\\lib\\site-packages (from spacy<3.5.0,>=3.3.0->en-coreference-web-trf==3.4.0a0) (3.0.11)\n",
      "Requirement already satisfied: jinja2 in c:\\users\\wma22\\anaconda3\\envs\\coref\\lib\\site-packages (from spacy<3.5.0,>=3.3.0->en-coreference-web-trf==3.4.0a0) (3.1.2)\n",
      "Requirement already satisfied: pathy>=0.3.5 in c:\\users\\wma22\\anaconda3\\envs\\coref\\lib\\site-packages (from spacy<3.5.0,>=3.3.0->en-coreference-web-trf==3.4.0a0) (0.10.1)\n",
      "Requirement already satisfied: setuptools in c:\\users\\wma22\\anaconda3\\envs\\coref\\lib\\site-packages (from spacy<3.5.0,>=3.3.0->en-coreference-web-trf==3.4.0a0) (66.1.1)\n",
      "Requirement already satisfied: typer<0.8.0,>=0.3.0 in c:\\users\\wma22\\anaconda3\\envs\\coref\\lib\\site-packages (from spacy<3.5.0,>=3.3.0->en-coreference-web-trf==3.4.0a0) (0.7.0)\n",
      "Requirement already satisfied: numpy>=1.15.0 in c:\\users\\wma22\\anaconda3\\envs\\coref\\lib\\site-packages (from spacy<3.5.0,>=3.3.0->en-coreference-web-trf==3.4.0a0) (1.24.1)\n",
      "Requirement already satisfied: cymem<2.1.0,>=2.0.2 in c:\\users\\wma22\\anaconda3\\envs\\coref\\lib\\site-packages (from spacy<3.5.0,>=3.3.0->en-coreference-web-trf==3.4.0a0) (2.0.7)\n",
      "Requirement already satisfied: srsly<3.0.0,>=2.4.3 in c:\\users\\wma22\\anaconda3\\envs\\coref\\lib\\site-packages (from spacy<3.5.0,>=3.3.0->en-coreference-web-trf==3.4.0a0) (2.4.5)\n",
      "Requirement already satisfied: tqdm<5.0.0,>=4.38.0 in c:\\users\\wma22\\anaconda3\\envs\\coref\\lib\\site-packages (from spacy<3.5.0,>=3.3.0->en-coreference-web-trf==3.4.0a0) (4.64.1)\n",
      "Requirement already satisfied: smart-open<7.0.0,>=5.2.1 in c:\\users\\wma22\\anaconda3\\envs\\coref\\lib\\site-packages (from spacy<3.5.0,>=3.3.0->en-coreference-web-trf==3.4.0a0) (6.3.0)\n",
      "Requirement already satisfied: pydantic!=1.8,!=1.8.1,<1.11.0,>=1.7.4 in c:\\users\\wma22\\anaconda3\\envs\\coref\\lib\\site-packages (from spacy<3.5.0,>=3.3.0->en-coreference-web-trf==3.4.0a0) (1.10.4)\n",
      "Requirement already satisfied: spacy-loggers<2.0.0,>=1.0.0 in c:\\users\\wma22\\anaconda3\\envs\\coref\\lib\\site-packages (from spacy<3.5.0,>=3.3.0->en-coreference-web-trf==3.4.0a0) (1.0.4)\n",
      "Requirement already satisfied: catalogue<2.1.0,>=2.0.6 in c:\\users\\wma22\\anaconda3\\envs\\coref\\lib\\site-packages (from spacy<3.5.0,>=3.3.0->en-coreference-web-trf==3.4.0a0) (2.0.8)\n",
      "Requirement already satisfied: packaging>=20.0 in c:\\users\\wma22\\anaconda3\\envs\\coref\\lib\\site-packages (from spacy<3.5.0,>=3.3.0->en-coreference-web-trf==3.4.0a0) (23.0)\n",
      "Requirement already satisfied: preshed<3.1.0,>=3.0.2 in c:\\users\\wma22\\anaconda3\\envs\\coref\\lib\\site-packages (from spacy<3.5.0,>=3.3.0->en-coreference-web-trf==3.4.0a0) (3.0.8)\n",
      "Requirement already satisfied: thinc<8.2.0,>=8.1.0 in c:\\users\\wma22\\anaconda3\\envs\\coref\\lib\\site-packages (from spacy<3.5.0,>=3.3.0->en-coreference-web-trf==3.4.0a0) (8.1.7)\n",
      "Requirement already satisfied: murmurhash<1.1.0,>=0.28.0 in c:\\users\\wma22\\anaconda3\\envs\\coref\\lib\\site-packages (from spacy<3.5.0,>=3.3.0->en-coreference-web-trf==3.4.0a0) (1.0.9)\n",
      "Requirement already satisfied: langcodes<4.0.0,>=3.2.0 in c:\\users\\wma22\\anaconda3\\envs\\coref\\lib\\site-packages (from spacy<3.5.0,>=3.3.0->en-coreference-web-trf==3.4.0a0) (3.3.0)\n",
      "Requirement already satisfied: wasabi<1.1.0,>=0.9.1 in c:\\users\\wma22\\anaconda3\\envs\\coref\\lib\\site-packages (from spacy<3.5.0,>=3.3.0->en-coreference-web-trf==3.4.0a0) (0.10.1)\n",
      "Requirement already satisfied: torch>=1.6.0 in c:\\users\\wma22\\anaconda3\\envs\\coref\\lib\\site-packages (from spacy-transformers<1.2.0,>=1.1.2->en-coreference-web-trf==3.4.0a0) (1.13.1)\n",
      "Requirement already satisfied: transformers<4.26.0,>=3.4.0 in c:\\users\\wma22\\anaconda3\\envs\\coref\\lib\\site-packages (from spacy-transformers<1.2.0,>=1.1.2->en-coreference-web-trf==3.4.0a0) (4.25.1)\n",
      "Requirement already satisfied: spacy-alignments<1.0.0,>=0.7.2 in c:\\users\\wma22\\anaconda3\\envs\\coref\\lib\\site-packages (from spacy-transformers<1.2.0,>=1.1.2->en-coreference-web-trf==3.4.0a0) (0.9.0)\n",
      "Requirement already satisfied: typing-extensions>=4.2.0 in c:\\users\\wma22\\anaconda3\\envs\\coref\\lib\\site-packages (from pydantic!=1.8,!=1.8.1,<1.11.0,>=1.7.4->spacy<3.5.0,>=3.3.0->en-coreference-web-trf==3.4.0a0) (4.4.0)\n",
      "Requirement already satisfied: charset-normalizer<4,>=2 in c:\\users\\wma22\\anaconda3\\envs\\coref\\lib\\site-packages (from requests<3.0.0,>=2.13.0->spacy<3.5.0,>=3.3.0->en-coreference-web-trf==3.4.0a0) (3.0.1)\n",
      "Requirement already satisfied: idna<4,>=2.5 in c:\\users\\wma22\\anaconda3\\envs\\coref\\lib\\site-packages (from requests<3.0.0,>=2.13.0->spacy<3.5.0,>=3.3.0->en-coreference-web-trf==3.4.0a0) (3.4)\n",
      "Requirement already satisfied: urllib3<1.27,>=1.21.1 in c:\\users\\wma22\\anaconda3\\envs\\coref\\lib\\site-packages (from requests<3.0.0,>=2.13.0->spacy<3.5.0,>=3.3.0->en-coreference-web-trf==3.4.0a0) (1.26.14)\n",
      "Requirement already satisfied: certifi>=2017.4.17 in c:\\users\\wma22\\anaconda3\\envs\\coref\\lib\\site-packages (from requests<3.0.0,>=2.13.0->spacy<3.5.0,>=3.3.0->en-coreference-web-trf==3.4.0a0) (2022.12.7)\n",
      "Requirement already satisfied: confection<1.0.0,>=0.0.1 in c:\\users\\wma22\\anaconda3\\envs\\coref\\lib\\site-packages (from thinc<8.2.0,>=8.1.0->spacy<3.5.0,>=3.3.0->en-coreference-web-trf==3.4.0a0) (0.0.4)\n",
      "Requirement already satisfied: blis<0.8.0,>=0.7.8 in c:\\users\\wma22\\anaconda3\\envs\\coref\\lib\\site-packages (from thinc<8.2.0,>=8.1.0->spacy<3.5.0,>=3.3.0->en-coreference-web-trf==3.4.0a0) (0.7.9)\n",
      "Requirement already satisfied: colorama in c:\\users\\wma22\\anaconda3\\envs\\coref\\lib\\site-packages (from tqdm<5.0.0,>=4.38.0->spacy<3.5.0,>=3.3.0->en-coreference-web-trf==3.4.0a0) (0.4.6)\n",
      "Requirement already satisfied: filelock in c:\\users\\wma22\\anaconda3\\envs\\coref\\lib\\site-packages (from transformers<4.26.0,>=3.4.0->spacy-transformers<1.2.0,>=1.1.2->en-coreference-web-trf==3.4.0a0) (3.9.0)\n",
      "Requirement already satisfied: regex!=2019.12.17 in c:\\users\\wma22\\anaconda3\\envs\\coref\\lib\\site-packages (from transformers<4.26.0,>=3.4.0->spacy-transformers<1.2.0,>=1.1.2->en-coreference-web-trf==3.4.0a0) (2022.10.31)\n",
      "Requirement already satisfied: pyyaml>=5.1 in c:\\users\\wma22\\anaconda3\\envs\\coref\\lib\\site-packages (from transformers<4.26.0,>=3.4.0->spacy-transformers<1.2.0,>=1.1.2->en-coreference-web-trf==3.4.0a0) (6.0)\n",
      "Requirement already satisfied: huggingface-hub<1.0,>=0.10.0 in c:\\users\\wma22\\anaconda3\\envs\\coref\\lib\\site-packages (from transformers<4.26.0,>=3.4.0->spacy-transformers<1.2.0,>=1.1.2->en-coreference-web-trf==3.4.0a0) (0.11.1)\n",
      "Requirement already satisfied: tokenizers!=0.11.3,<0.14,>=0.11.1 in c:\\users\\wma22\\anaconda3\\envs\\coref\\lib\\site-packages (from transformers<4.26.0,>=3.4.0->spacy-transformers<1.2.0,>=1.1.2->en-coreference-web-trf==3.4.0a0) (0.13.2)\n",
      "Requirement already satisfied: click<9.0.0,>=7.1.1 in c:\\users\\wma22\\anaconda3\\envs\\coref\\lib\\site-packages (from typer<0.8.0,>=0.3.0->spacy<3.5.0,>=3.3.0->en-coreference-web-trf==3.4.0a0) (8.1.3)\n",
      "Requirement already satisfied: MarkupSafe>=2.0 in c:\\users\\wma22\\anaconda3\\envs\\coref\\lib\\site-packages (from jinja2->spacy<3.5.0,>=3.3.0->en-coreference-web-trf==3.4.0a0) (2.1.2)\n"
     ]
    },
    {
     "name": "stderr",
     "output_type": "stream",
     "text": [
      "WARNING: Ignoring invalid distribution -rotobuf (c:\\users\\wma22\\appdata\\roaming\\python\\python39\\site-packages)\n",
      "WARNING: Ignoring invalid distribution -illow (c:\\users\\wma22\\appdata\\roaming\\python\\python39\\site-packages)\n",
      "WARNING: Ignoring invalid distribution -rotobuf (c:\\users\\wma22\\appdata\\roaming\\python\\python39\\site-packages)\n",
      "WARNING: Ignoring invalid distribution -illow (c:\\users\\wma22\\appdata\\roaming\\python\\python39\\site-packages)\n",
      "WARNING: Ignoring invalid distribution -rotobuf (c:\\users\\wma22\\appdata\\roaming\\python\\python39\\site-packages)\n",
      "WARNING: Ignoring invalid distribution -illow (c:\\users\\wma22\\appdata\\roaming\\python\\python39\\site-packages)\n",
      "WARNING: Ignoring invalid distribution -rotobuf (c:\\users\\wma22\\appdata\\roaming\\python\\python39\\site-packages)\n",
      "WARNING: Ignoring invalid distribution -illow (c:\\users\\wma22\\appdata\\roaming\\python\\python39\\site-packages)\n",
      "WARNING: Ignoring invalid distribution -rotobuf (c:\\users\\wma22\\appdata\\roaming\\python\\python39\\site-packages)\n",
      "WARNING: Ignoring invalid distribution -illow (c:\\users\\wma22\\appdata\\roaming\\python\\python39\\site-packages)\n",
      "WARNING: Ignoring invalid distribution -rotobuf (c:\\users\\wma22\\appdata\\roaming\\python\\python39\\site-packages)\n",
      "WARNING: Ignoring invalid distribution -illow (c:\\users\\wma22\\appdata\\roaming\\python\\python39\\site-packages)\n"
     ]
    }
   ],
   "source": [
    "!pip install https://github.com/explosion/spacy-experimental/releases/download/v0.6.0/en_coreference_web_trf-3.4.0a0-py3-none-any.whl#egg=en_coreference_web_trf"
   ]
  },
  {
   "cell_type": "code",
   "execution_count": 11,
   "id": "6f772f61-130e-418d-bfc9-eb75002dcdc4",
   "metadata": {},
   "outputs": [],
   "source": [
    "nlp = spacy.load(\"en_coreference_web_trf\")"
   ]
  },
  {
   "cell_type": "code",
   "execution_count": 13,
   "id": "1744e69f-d8c9-4128-a472-bffcccde8195",
   "metadata": {},
   "outputs": [],
   "source": [
    "doc = nlp(\"The cats were startled by the dog as it growled at them.\")"
   ]
  },
  {
   "cell_type": "code",
   "execution_count": 14,
   "id": "f86d1e39-7244-4916-9d5e-2a31723ab978",
   "metadata": {},
   "outputs": [
    {
     "data": {
      "text/plain": [
       "{'coref_clusters_1': [the dog as, it growled], 'coref_clusters_2': [The cats were, them.]}"
      ]
     },
     "execution_count": 14,
     "metadata": {},
     "output_type": "execute_result"
    }
   ],
   "source": [
    "doc.spans"
   ]
  },
  {
   "cell_type": "markdown",
   "id": "33816b8e-d0e9-4de6-b934-53a7ed6bd601",
   "metadata": {},
   "source": [
    "# Second Example with Heads"
   ]
  },
  {
   "cell_type": "code",
   "execution_count": 15,
   "id": "f672886f-de3d-4dfb-bd41-0ee1880bd177",
   "metadata": {},
   "outputs": [],
   "source": [
    "nlp = spacy.load(\"en_core_web_sm\")\n",
    "nlp_coref = spacy.load(\"en_coreference_web_trf\")\n",
    "\n",
    "# use replace_listeners for the coref components\n",
    "nlp_coref.replace_listeners(\"transformer\", \"coref\", [\"model.tok2vec\"])\n",
    "nlp_coref.replace_listeners(\"transformer\", \"span_resolver\", [\"model.tok2vec\"])\n",
    "\n",
    "# we won't copy over the span cleaner\n",
    "nlp.add_pipe(\"coref\", source=nlp_coref)\n",
    "nlp.add_pipe(\"span_resolver\", source=nlp_coref)\n",
    "\n",
    "doc = nlp(\"The cats were startled by the dog as it growled at them.\") \n",
    "\n",
    "# print(doc.spans)"
   ]
  },
  {
   "cell_type": "code",
   "execution_count": 16,
   "id": "73670e27-1f48-4396-8f22-79f0654872dd",
   "metadata": {},
   "outputs": [
    {
     "data": {
      "text/plain": [
       "{'coref_head_clusters_1': [dog, it], 'coref_head_clusters_2': [cats, them], 'coref_clusters_1': [the dog as, it growled], 'coref_clusters_2': [The cats were, them.]}"
      ]
     },
     "execution_count": 16,
     "metadata": {},
     "output_type": "execute_result"
    }
   ],
   "source": [
    "doc.spans"
   ]
  },
  {
   "cell_type": "code",
   "execution_count": null,
   "id": "b3a50cb4-d5f5-48f7-ae9d-84915be00dba",
   "metadata": {},
   "outputs": [],
   "source": []
  }
 ],
 "metadata": {
  "kernelspec": {
   "display_name": "spacy_experimental_env",
   "language": "python",
   "name": "python3"
  },
  "language_info": {
   "codemirror_mode": {
    "name": "ipython",
    "version": 3
   },
   "file_extension": ".py",
   "mimetype": "text/x-python",
   "name": "python",
   "nbconvert_exporter": "python",
   "pygments_lexer": "ipython3",
   "version": "3.10.11"
  }
 },
 "nbformat": 4,
 "nbformat_minor": 5
}
