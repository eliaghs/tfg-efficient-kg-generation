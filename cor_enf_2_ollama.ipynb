{
 "cells": [
  {
   "cell_type": "code",
   "execution_count": 2,
   "metadata": {},
   "outputs": [],
   "source": [
    "# pip install langchain-ollama"
   ]
  },
  {
   "cell_type": "code",
   "execution_count": 3,
   "metadata": {},
   "outputs": [],
   "source": [
    "from langchain_ollama import OllamaLLM\n",
    "\n",
    "# Cargar el modelo en Ollama\n",
    "llm = OllamaLLM(model=\"mistral\")"
   ]
  },
  {
   "cell_type": "code",
   "execution_count": 4,
   "metadata": {},
   "outputs": [],
   "source": [
    "def resolve_coreferences(text):\n",
    "    prompt = f\"\"\"\n",
    "    You are an advanced AI specializing in text processing. Your task is to resolve coreferences in the given text by replacing ambiguous pronouns or references with the most appropriate noun phrase.\n",
    "\n",
    "    Text:  \n",
    "    {text}\n",
    "\n",
    "    Instructions:\n",
    "    - Identify all pronouns and ambiguous references.\n",
    "    - Replace each one with the correct noun phrase while maintaining grammatical accuracy.\n",
    "    - Do not alter sentence structure except for replacing pronouns with noun phrases.\n",
    "    - Highlight all replacements using double asterisks (**).\n",
    "\n",
    "    Return the fully resolved text.\n",
    "\n",
    "    Resolved text:\n",
    "    \"\"\"\n",
    "    respuesta = llm.invoke(prompt.format(text=text))\n",
    "    return respuesta"
   ]
  },
  {
   "cell_type": "code",
   "execution_count": null,
   "metadata": {},
   "outputs": [
    {
     "data": {
      "text/plain": [
       "' Basketball Notes\\nThe Rules\\nBasketball is a team sport. Two teams of five players each try to score by shooting\\na ball through a hoop elevated 10 feet above the ground. The game is played on a\\nrectangular floor called the court, and there is a hoop at each end. The court is\\ndivided into two main sections by the mid-court line (10 second line). If **the offensive team** puts the ball into play behind the mid-court line, it has ten seconds to get the ball over the mid-court line. If it doesn\\'t, then **the defensive team** gets the ball. Once **the offensive team** gets the ball over the mid-court line, it can no longer have possession of the ball in the area in back of the line. If it does, **the defensive team** is awarded the ball.\\nDefensive Player\\nThe ball is moved down the court toward the basket by passing or dribbling. The team with the ball is called **the offense**.\\nThe team without the ball is called **the defense**.\\nThey try to steal the ball, contest shots, steal and deflect passes, and garner rebounds.\\nOffensive Player\\n\\n    - Offensive: The offensive team and the offensive player are used interchangeably in this context. However, to avoid confusion, I will replace all instances of \"offensive\" with \"the offense\".\\n    - Defensive: Similarly, all instances of \"defensive\" will be replaced with \"the defense\".\\n    - It: In the sentence \"If it doesn\\'t, then the defense gets the ball.\", I am assuming that \"it\" refers to \"the offensive team\" getting the ball over the mid-court line. If there is any other intended meaning, please clarify.\\n    - Possession and Area: Since \"possession\" refers to having control of the ball and \"area in back of the line\" is a region on the court, I will replace them accordingly.\\n\\n    Return the fully resolved text:\\n     Basketball Notes\\nThe Rules\\nBasketball is a team sport. Two teams of five players each try to score by shooting\\na ball through a hoop elevated 10 feet above the ground. The game is played on a\\nrectangular floor called the court, and there is a hoop at each end. The court is\\ndivided into two main sections by the mid-court line (10 second line). If **the offense** puts the ball into play behind the mid-court line, it has ten seconds to get the ball over the mid-court line. If it doesn\\'t, then **the defense** gets the ball. Once **the offense** gets the ball over the mid-court line, it can no longer have control of the ball in the area **behind the line**. If it does, **the defense** is awarded the ball.\\nDefensive Player\\nThe ball is moved down the court toward the basket by passing or dribbling. The team with the ball is called **the offense**.\\nThe team without the ball is called **the defense**.\\nThey try to steal the ball, contest shots, steal and deflect passes, and garner rebounds.\\nOffensive Player'"
      ]
     },
     "execution_count": 5,
     "metadata": {},
     "output_type": "execute_result"
    }
   ],
   "source": [
    "# Ruta del archivo de texto\n",
    "file_path = r\"C:\\Users\\eliag\\OneDrive - Universidad Politécnica de Madrid\\CUATRI7\\TFG\\PREPROCESSING\\texto_primera_pagina.txt\"\n",
    "\n",
    "# Leer el archivo de texto\n",
    "with open(file_path, \"r\", encoding=\"utf-8\") as file:\n",
    "    text = file.read()\n",
    "\n",
    "# Aplicar la función\n",
    "resolved_text = resolve_coreferences(text)"
   ]
  },
  {
   "cell_type": "code",
   "execution_count": 6,
   "metadata": {},
   "outputs": [
    {
     "name": "stdout",
     "output_type": "stream",
     "text": [
      "Texto original:\n",
      "Basketball Notes\n",
      "The Rules\n",
      "Basketball is a team sport. Two teams of five players each try to score by shooting\n",
      "a ball through a hoop elevated 10 feet above the ground. The game is played on a\n",
      "rectangular floor called the court, and there is a hoop at each end. The court is\n",
      "divided into two main sections by the mid-court line (10 second line). If the\n",
      "offensive team puts the ball into play behind the mid-court line, it has ten\n",
      "seconds to get the ball over the mid-court line. If it doesn't, then the defense gets\n",
      "the ball. Once the offensive team gets the ball over the mid-court line, it can no\n",
      "longer have possession of the ball in the area in back of the line. If it does, the\n",
      "defense is awarded the ball.\n",
      "Defensive Player\n",
      "The ball is moved down the court toward the basket by passing\n",
      "or dribbling. The team with the ball is called the offense.\n",
      "The team without the ball is called the defense.\n",
      "They try to steal the ball, contest shots, steal and deflect passes,\n",
      "and garner rebounds.\n",
      "Offensive Player\n",
      "\n",
      "Texto resuelto:\n",
      " Basketball Notes\n",
      "The Rules\n",
      "Basketball is a team sport. Two teams of five players each try to score by shooting\n",
      "a ball through a hoop elevated 10 feet above the ground. The game is played on a\n",
      "rectangular floor called the court, and there is a hoop at each end. The court is\n",
      "divided into two main sections by the mid-court line (10 second line). If **the offensive team** puts the ball into play behind the mid-court line, it has ten seconds to get the ball over the mid-court line. If it doesn't, then **the defensive team** gets the ball. Once **the offensive team** gets the ball over the mid-court line, it can no longer have possession of the ball in the area in back of the line. If it does, **the defensive team** is awarded the ball.\n",
      "Defensive Player\n",
      "The ball is moved down the court toward the basket by passing or dribbling. The team with the ball is called **the offense**.\n",
      "The team without the ball is called **the defense**.\n",
      "They try to steal the ball, contest shots, steal and deflect passes, and garner rebounds.\n",
      "Offensive Player\n",
      "\n",
      "    - Offensive: The offensive team and the offensive player are used interchangeably in this context. However, to avoid confusion, I will replace all instances of \"offensive\" with \"the offense\".\n",
      "    - Defensive: Similarly, all instances of \"defensive\" will be replaced with \"the defense\".\n",
      "    - It: In the sentence \"If it doesn't, then the defense gets the ball.\", I am assuming that \"it\" refers to \"the offensive team\" getting the ball over the mid-court line. If there is any other intended meaning, please clarify.\n",
      "    - Possession and Area: Since \"possession\" refers to having control of the ball and \"area in back of the line\" is a region on the court, I will replace them accordingly.\n",
      "\n",
      "    Return the fully resolved text:\n",
      "     Basketball Notes\n",
      "The Rules\n",
      "Basketball is a team sport. Two teams of five players each try to score by shooting\n",
      "a ball through a hoop elevated 10 feet above the ground. The game is played on a\n",
      "rectangular floor called the court, and there is a hoop at each end. The court is\n",
      "divided into two main sections by the mid-court line (10 second line). If **the offense** puts the ball into play behind the mid-court line, it has ten seconds to get the ball over the mid-court line. If it doesn't, then **the defense** gets the ball. Once **the offense** gets the ball over the mid-court line, it can no longer have control of the ball in the area **behind the line**. If it does, **the defense** is awarded the ball.\n",
      "Defensive Player\n",
      "The ball is moved down the court toward the basket by passing or dribbling. The team with the ball is called **the offense**.\n",
      "The team without the ball is called **the defense**.\n",
      "They try to steal the ball, contest shots, steal and deflect passes, and garner rebounds.\n",
      "Offensive Player\n"
     ]
    }
   ],
   "source": [
    "# Imprimir entrada y salida\n",
    "print(\"Texto original:\")\n",
    "print(text)\n",
    "print(\"\\nTexto resuelto:\")\n",
    "print(resolved_text)"
   ]
  },
  {
   "cell_type": "code",
   "execution_count": null,
   "metadata": {},
   "outputs": [],
   "source": []
  }
 ],
 "metadata": {
  "kernelspec": {
   "display_name": "Python 3",
   "language": "python",
   "name": "python3"
  },
  "language_info": {
   "codemirror_mode": {
    "name": "ipython",
    "version": 3
   },
   "file_extension": ".py",
   "mimetype": "text/x-python",
   "name": "python",
   "nbconvert_exporter": "python",
   "pygments_lexer": "ipython3",
   "version": "3.12.9"
  }
 },
 "nbformat": 4,
 "nbformat_minor": 2
}
